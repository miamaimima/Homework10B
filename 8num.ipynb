{
 "cells": [
  {
   "cell_type": "markdown",
   "id": "3202ef83-f957-4951-a201-2842da8baac8",
   "metadata": {},
   "source": [
    "8 задание ЕГЭ по информатике"
   ]
  },
  {
   "cell_type": "markdown",
   "id": "6ec151a6-2651-497d-8572-c25cf5b4c796",
   "metadata": {},
   "source": [
    "Тип 8 - 13621"
   ]
  },
  {
   "cell_type": "code",
   "execution_count": 1,
   "id": "2ce0bdd9-3ccf-4d59-a603-68b026b2af3b",
   "metadata": {
    "tags": []
   },
   "outputs": [
    {
     "name": "stdout",
     "output_type": "stream",
     "text": [
      "250\n"
     ]
    }
   ],
   "source": [
    "count = 0\n",
    "for a1 in 'XABCDE':\n",
    "    for a2 in 'ABCDE':\n",
    "        for a3 in 'ABCDE':\n",
    "            for a4 in 'XABCDE':\n",
    "                a = a1 + a2 + a3 + a4\n",
    "                if a.count('X') == 1:\n",
    "                    count += 1\n",
    "print(count)"
   ]
  },
  {
   "cell_type": "code",
   "execution_count": null,
   "id": "7666c313-b772-4ab1-9e33-7d304684ca40",
   "metadata": {},
   "outputs": [],
   "source": []
  }
 ],
 "metadata": {
  "kernelspec": {
   "display_name": "Python 3 (ipykernel)",
   "language": "python",
   "name": "python3"
  },
  "language_info": {
   "codemirror_mode": {
    "name": "ipython",
    "version": 3
   },
   "file_extension": ".py",
   "mimetype": "text/x-python",
   "name": "python",
   "nbconvert_exporter": "python",
   "pygments_lexer": "ipython3",
   "version": "3.11.5"
  }
 },
 "nbformat": 4,
 "nbformat_minor": 5
}
